{
 "cells": [
  {
   "cell_type": "code",
   "execution_count": 3,
   "metadata": {},
   "outputs": [],
   "source": [
    "data={'model_trainer_ref_artifact': {'trained_model_file_path': '/home/avnish/iNeuron_Private_Intelligence_Limited/project_neuron/ml/finance-complaint/finance_artifact/model_trainer/20221114_133246/trained_model/finance_estimator', 'label_indexer_model_file_path': '/home/avnish/iNeuron_Private_Intelligence_Limited/project_neuron/ml/finance-complaint/finance_artifact/model_trainer/20221114_133246/label_indexer'}, 'model_trainer_train_metric_artifact': {'f1_score': 0.8323223186625319, 'precision_score': 0.8107160851330072, 'recall_score': 0.8618937644341801}, 'model_trainer_test_metric_artifact': {'f1_score': 0.8610711544640307, 'precision_score': 0.8400419311495159, 'recall_score': 0.8849557522123893}}"
   ]
  },
  {
   "cell_type": "code",
   "execution_count": 4,
   "metadata": {},
   "outputs": [],
   "source": [
    "from finance_complaint.entity.artifact_entity import ModelTrainerArtifact"
   ]
  },
  {
   "cell_type": "code",
   "execution_count": 7,
   "metadata": {},
   "outputs": [],
   "source": [
    "model = ModelTrainerArtifact.construct_object(**data)"
   ]
  },
  {
   "cell_type": "code",
   "execution_count": 8,
   "metadata": {},
   "outputs": [
    {
     "data": {
      "text/plain": [
       "{'model_trainer_ref_artifact': {'trained_model_file_path': '/home/avnish/iNeuron_Private_Intelligence_Limited/project_neuron/ml/finance-complaint/finance_artifact/model_trainer/20221114_133246/trained_model/finance_estimator',\n",
       "  'label_indexer_model_file_path': '/home/avnish/iNeuron_Private_Intelligence_Limited/project_neuron/ml/finance-complaint/finance_artifact/model_trainer/20221114_133246/label_indexer'},\n",
       " 'model_trainer_train_metric_artifact': {'f1_score': 0.8323223186625319,\n",
       "  'precision_score': 0.8107160851330072,\n",
       "  'recall_score': 0.8618937644341801},\n",
       " 'model_trainer_test_metric_artifact': {'f1_score': 0.8610711544640307,\n",
       "  'precision_score': 0.8400419311495159,\n",
       "  'recall_score': 0.8849557522123893}}"
      ]
     },
     "execution_count": 8,
     "metadata": {},
     "output_type": "execute_result"
    }
   ],
   "source": [
    "model._asdict()"
   ]
  },
  {
   "cell_type": "code",
   "execution_count": null,
   "metadata": {},
   "outputs": [],
   "source": []
  }
 ],
 "metadata": {
  "kernelspec": {
   "display_name": "Python 3.8.0 (conda)",
   "language": "python",
   "name": "python3"
  },
  "language_info": {
   "codemirror_mode": {
    "name": "ipython",
    "version": 3
   },
   "file_extension": ".py",
   "mimetype": "text/x-python",
   "name": "python",
   "nbconvert_exporter": "python",
   "pygments_lexer": "ipython3",
   "version": "3.8.0"
  },
  "orig_nbformat": 4,
  "vscode": {
   "interpreter": {
    "hash": "ca10b06f67aec480768f73175b624e64105dd9bf692c2b6d6fc94502ce4ba749"
   }
  }
 },
 "nbformat": 4,
 "nbformat_minor": 2
}
